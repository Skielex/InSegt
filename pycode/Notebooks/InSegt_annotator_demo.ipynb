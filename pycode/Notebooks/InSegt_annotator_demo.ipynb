{
 "cells": [
  {
   "cell_type": "code",
   "execution_count": 1,
   "metadata": {},
   "outputs": [],
   "source": [
    "\"\"\"\n",
    "Demo showing how km_dict and insegtprobannotator may be used together for\n",
    "interactive segmentation. \n",
    "\n",
    "@author: vand and abda\n",
    "\"\"\"\n",
    "\n",
    "import sys\n",
    "import skimage.io\n",
    "import skimage.data\n",
    "import numpy as np\n",
    "%gui qt\n",
    "patch_dir = '../'\n",
    "import sys\n",
    "if patch_dir not in sys.path:\n",
    "    sys.path.append(patch_dir)\n",
    "import insegtprobannotator\n",
    "import km_dict\n",
    "import feat_seg\n",
    "import PyQt5.QtCore \n",
    "\n",
    "import matplotlib.pyplot as plt\n",
    "import matplotlib.colors\n",
    "%matplotlib notebook\n",
    "\n"
   ]
  },
  {
   "cell_type": "code",
   "execution_count": 2,
   "metadata": {},
   "outputs": [
    {
     "name": "stdout",
     "output_type": "stream",
     "text": [
      "Loading image\n"
     ]
    }
   ],
   "source": [
    "#%% EXAMPLE 2: nerve fibres\n",
    "\n",
    "## loading image\n",
    "print('Loading image')\n",
    "data_path = '../../data'\n",
    "filename = data_path + '/nerve_im_scale.png'\n",
    "image = skimage.io.imread(filename)\n"
   ]
  },
  {
   "cell_type": "code",
   "execution_count": 4,
   "metadata": {},
   "outputs": [
    {
     "name": "stdout",
     "output_type": "stream",
     "text": [
      "number of training patches 114244\n",
      "Showtime\n",
      "Starting InSegt annotator. For help, hit 'H'.\n"
     ]
    },
    {
     "data": {
      "text/plain": [
       "0"
      ]
     },
     "execution_count": 4,
     "metadata": {},
     "output_type": "execute_result"
    }
   ],
   "source": [
    "int_patch_size = 9\n",
    "branching_factor = 5\n",
    "number_layers = 5\n",
    "number_training_patches = 200000\n",
    "normalization = False\n",
    "\n",
    "patch_size_feat = 5\n",
    "n_train = 50000\n",
    "n_keep = 25\n",
    "order_keep = (True, True, True)\n",
    "\n",
    "image_float = image.astype(np.float)/255\n",
    "\n",
    "# Compute feature image\n",
    "feat_im, vec, mean_patch, norm_fac = feat_seg.get_uni_pca_feat(image_float, patch_size_feat, n_train, n_keep, order_keep, sigma = -1)\n",
    "feat_im = np.asarray(feat_im.transpose(2,0,1), order='C')\n",
    "\n",
    "# Build tree\n",
    "T = km_dict.build_km_tree(feat_im, 1, branching_factor, number_training_patches, number_layers, normalization)\n",
    "\n",
    "# Search km-tree and get assignment\n",
    "A, number_nodes = km_dict.search_km_tree(feat_im, T, branching_factor, normalization)\n",
    "# number of repetitions for updating the segmentation\n",
    "number_repetitions = 2\n",
    "\n",
    "\n",
    "def processing_function(labels):\n",
    "    r,c = labels.shape\n",
    "    l = np.max(labels)+1\n",
    "    if(l>1):\n",
    "        label_image = np.zeros((r,c,l))\n",
    "        for k in range(number_repetitions):\n",
    "            for i in range(1,l):\n",
    "                label_image[:,:,i] = (labels == i).astype(float)\n",
    "            D = km_dict.improb_to_dictprob(A, label_image[:,:,1:], number_nodes, int_patch_size) # Dictionary\n",
    "            P = km_dict.dictprob_to_improb(A, D, int_patch_size) # Probability map\n",
    "            labels = (np.argmax(P,axis=2) + 1)*(np.sum(P,axis=2)>0)# Segmentation\n",
    "    else:\n",
    "        P = np.empty((r,c,0))\n",
    "        D = None\n",
    "    return labels, P.transpose(2,0,1), D\n",
    "\n",
    "pf = lambda labels: processing_function(labels)[:2]\n",
    "\n",
    "print('Showtime')    \n",
    "\n",
    "# showtime\n",
    "app = PyQt5.QtCore.QCoreApplication.instance()\n",
    "if app is None:\n",
    "    app = insegtprobannotator.PyQt5.QtWidgets.QApplication(sys.argv)\n",
    "ex = insegtprobannotator.InSegtProbAnnotator(image, pf)\n",
    "app.exec_()"
   ]
  },
  {
   "cell_type": "code",
   "execution_count": null,
   "metadata": {},
   "outputs": [],
   "source": [
    "labels = ex.rgbaToLabels(ex.pixmapToArray(ex.annotationPix))\n",
    "\n",
    "segmentation, P, D = processing_function(labels)\n",
    "\n",
    "colors = np.asarray(ex.colors)/255\n",
    "cm = matplotlib.colors.LinearSegmentedColormap.from_list('insegt_colors', colors, N=len(ex.colors))\n",
    "\n",
    "l = int(D.shape[1]/(int_patch_size**2))\n",
    "fig,ax = plt.subplots(1, 3, sharex=True, sharey=True, figsize=(9,3))\n",
    "ax[0].imshow(image, cmap = 'gray')\n",
    "ax[1].imshow(labels, vmin = 0, vmax = len(ex.colors), cmap = cm)\n",
    "ax[2].imshow(segmentation, vmin = 0, vmax = len(ex.colors), cmap = cm)\n",
    "plt.show()\n"
   ]
  },
  {
   "cell_type": "code",
   "execution_count": null,
   "metadata": {},
   "outputs": [],
   "source": [
    "# Probabilities\n",
    "n_p = len(P)\n",
    "n_cols = 3\n",
    "n_rows = int(np.ceil(n_p/n_cols))\n",
    "\n",
    "print(f'n_p {n_p} n_cols {n_cols} n_rows {n_rows}')\n",
    "fig,ax = plt.subplots(n_rows, n_cols, sharex=True, sharey=True, figsize=(9,3*n_rows))\n",
    "ax = ax.ravel()\n",
    "for i in range(0,n_rows*n_cols):\n",
    "    if ( i < n_p ):\n",
    "        ax[i].imshow(P[i], cmap = 'jet')\n",
    "    else:\n",
    "        ax[i].axis('off')\n",
    "plt.show()\n",
    "\n",
    "\n"
   ]
  },
  {
   "cell_type": "code",
   "execution_count": null,
   "metadata": {},
   "outputs": [],
   "source": [
    "# Dictionary\n",
    "fig,ax = plt.subplots(1, figsize=(5,3))\n",
    "ax.imshow(D, aspect='auto', cmap = 'jet')\n",
    "plt.show()"
   ]
  },
  {
   "cell_type": "code",
   "execution_count": null,
   "metadata": {},
   "outputs": [],
   "source": []
  }
 ],
 "metadata": {
  "kernelspec": {
   "display_name": "Python 3",
   "language": "python",
   "name": "python3"
  },
  "language_info": {
   "codemirror_mode": {
    "name": "ipython",
    "version": 3
   },
   "file_extension": ".py",
   "mimetype": "text/x-python",
   "name": "python",
   "nbconvert_exporter": "python",
   "pygments_lexer": "ipython3",
   "version": "3.8.5"
  }
 },
 "nbformat": 4,
 "nbformat_minor": 4
}
